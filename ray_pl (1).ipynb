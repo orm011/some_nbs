{
 "cells": [
  {
   "cell_type": "code",
   "execution_count": 1,
   "metadata": {
    "ExecuteTime": {
     "end_time": "2020-07-01T23:17:18.378841Z",
     "start_time": "2020-07-01T23:17:17.674273Z"
    }
   },
   "outputs": [],
   "source": [
    "import torch\n",
    "import pytorch_lightning as pl\n",
    "from torch.utils.data import DataLoader, random_split\n",
    "from torch.nn import functional as F\n",
    "from torchvision.datasets import MNIST\n",
    "from torchvision import transforms\n",
    "import os"
   ]
  },
  {
   "cell_type": "code",
   "execution_count": 129,
   "metadata": {
    "ExecuteTime": {
     "end_time": "2020-07-02T00:42:29.803171Z",
     "start_time": "2020-07-02T00:42:29.797082Z"
    }
   },
   "outputs": [],
   "source": [
    "import shutil\n",
    "from tempfile import mkdtemp\n",
    "from pytorch_lightning.callbacks import Callback\n",
    "from pytorch_lightning.utilities.cloud_io import load as pl_load\n",
    "import ray\n",
    "from ray import tune\n",
    "from ray.tune import CLIReporter, JupyterNotebookReporter\n",
    "from ray.tune.schedulers import ASHAScheduler, PopulationBasedTraining\n",
    "import numpy as np"
   ]
  },
  {
   "cell_type": "code",
   "execution_count": 130,
   "metadata": {
    "ExecuteTime": {
     "end_time": "2020-07-02T00:42:49.847204Z",
     "start_time": "2020-07-02T00:42:49.842566Z"
    }
   },
   "outputs": [
    {
     "data": {
      "text/plain": [
       "('0.9.0.dev0', '0.8.4', '1.5.1')"
      ]
     },
     "execution_count": 130,
     "metadata": {},
     "output_type": "execute_result"
    }
   ],
   "source": [
    "ray.__version__,pl.__version__,torch.__version__"
   ]
  },
  {
   "cell_type": "code",
   "execution_count": 109,
   "metadata": {
    "ExecuteTime": {
     "end_time": "2020-07-02T00:12:38.604771Z",
     "start_time": "2020-07-02T00:12:38.581205Z"
    }
   },
   "outputs": [],
   "source": [
    "class LightningMNISTClassifier(pl.LightningModule):\n",
    "    \"\"\"\n",
    "    This has been adapted from\n",
    "    https://towardsdatascience.com/from-pytorch-to-pytorch-lightning-a-gentle-introduction-b371b7caaf09\n",
    "    \"\"\"\n",
    "\n",
    "    def __init__(self, config, data_dir=None):\n",
    "        super(LightningMNISTClassifier, self).__init__()\n",
    "\n",
    "        self.data_dir = data_dir or os.getcwd()\n",
    "        self.num_workers = config['num_workers']\n",
    "\n",
    "        self.layer_1_size = config[\"layer_1_size\"]\n",
    "        self.layer_2_size = config[\"layer_2_size\"]\n",
    "        self.lr = config[\"lr\"]\n",
    "        self.batch_size = config[\"batch_size\"]\n",
    "\n",
    "        # mnist images are (1, 28, 28) (channels, width, height)\n",
    "        self.layer_1 = torch.nn.Linear(28 * 28, self.layer_1_size)\n",
    "        self.layer_2 = torch.nn.Linear(self.layer_1_size, self.layer_2_size)\n",
    "        self.layer_3 = torch.nn.Linear(self.layer_2_size, 10)\n",
    "\n",
    "    def forward(self, x):\n",
    "        batch_size, channels, width, height = x.size()\n",
    "        x = x.view(batch_size, -1)\n",
    "\n",
    "        x = self.layer_1(x)\n",
    "        x = torch.relu(x)\n",
    "\n",
    "        x = self.layer_2(x)\n",
    "        x = torch.relu(x)\n",
    "\n",
    "        x = self.layer_3(x)\n",
    "        x = torch.log_softmax(x, dim=1)\n",
    "\n",
    "        return x\n",
    "\n",
    "    def cross_entropy_loss(self, logits, labels):\n",
    "        return F.nll_loss(logits, labels)\n",
    "\n",
    "    def accuracy(self, logits, labels):\n",
    "        _, predicted = torch.max(logits.data, 1)\n",
    "        correct = (predicted == labels).sum().item()\n",
    "        accuracy = correct / len(labels)\n",
    "        return torch.tensor(accuracy)\n",
    "\n",
    "    def training_step(self, train_batch, batch_idx):\n",
    "        x, y = train_batch\n",
    "        logits = self.forward(x)\n",
    "        loss = self.cross_entropy_loss(logits, y)\n",
    "        accuracy = self.accuracy(logits, y)\n",
    "\n",
    "        logs = {\"train_loss\": loss, \"train_accuracy\": accuracy}\n",
    "        return {\"loss\": loss, \"log\": logs}\n",
    "\n",
    "    def validation_step(self, val_batch, batch_idx):\n",
    "        x, y = val_batch\n",
    "        logits = self.forward(x)\n",
    "        loss = self.cross_entropy_loss(logits, y)\n",
    "        accuracy = self.accuracy(logits, y)\n",
    "\n",
    "        return {\"val_loss\": loss, \"val_accuracy\": accuracy}\n",
    "\n",
    "    def validation_epoch_end(self, outputs):\n",
    "        avg_loss = torch.stack([x[\"val_loss\"] for x in outputs]).mean()\n",
    "        avg_acc = torch.stack([x[\"val_accuracy\"] for x in outputs]).mean()\n",
    "        tensorboard_logs = {\"val_loss\": avg_loss, \"val_accuracy\": avg_acc}\n",
    "\n",
    "        return {\n",
    "            \"avg_val_loss\": avg_loss,\n",
    "            \"avg_val_accuracy\": avg_acc,\n",
    "            \"log\": tensorboard_logs\n",
    "        }\n",
    "\n",
    "    @staticmethod\n",
    "    def download_data(data_dir):\n",
    "        transform = transforms.Compose([\n",
    "            transforms.ToTensor(),\n",
    "            transforms.Normalize((0.1307, ), (0.3081, ))\n",
    "        ])\n",
    "        return MNIST(data_dir, train=True, download=True, transform=transform)\n",
    "\n",
    "    def prepare_data(self):\n",
    "        mnist_train = self.download_data(self.data_dir)\n",
    "\n",
    "        self.mnist_train, self.mnist_val = random_split(\n",
    "            mnist_train, [55000, 5000])\n",
    "\n",
    "    def train_dataloader(self):\n",
    "        return DataLoader(self.mnist_train, batch_size=int(self.batch_size), num_workers=self.num_workers)\n",
    "\n",
    "    def val_dataloader(self):\n",
    "        return DataLoader(self.mnist_val, batch_size=int(self.batch_size), num_workers=self.num_workers)\n",
    "\n",
    "    def configure_optimizers(self):\n",
    "        opt = torch.optim.SGD(params=self.parameters(), lr=self.lr)\n",
    "        sched = torch.optim.lr_scheduler.ExponentialLR(opt, gamma=.8)\n",
    "        return [opt], [sched]\n",
    "\n",
    "def train_mnist(config):\n",
    "    model = LightningMNISTClassifier(config)\n",
    "    trainer = pl.Trainer(max_epochs=5, show_progress_bar=True, gpus=1)\n",
    "    trainer.fit(model)"
   ]
  },
  {
   "cell_type": "code",
   "execution_count": 110,
   "metadata": {
    "ExecuteTime": {
     "end_time": "2020-07-02T00:13:05.315827Z",
     "start_time": "2020-07-02T00:12:43.789942Z"
    }
   },
   "outputs": [
    {
     "name": "stderr",
     "output_type": "stream",
     "text": [
      "GPU available: True, used: True\n",
      "TPU available: False, using: 0 TPU cores\n",
      "CUDA_VISIBLE_DEVICES: [0]\n",
      "\n",
      "  | Name    | Type   | Params\n",
      "-----------------------------------\n",
      "0 | layer_1 | Linear | 100 K \n",
      "1 | layer_2 | Linear | 33 K  \n",
      "2 | layer_3 | Linear | 2 K   \n"
     ]
    },
    {
     "data": {
      "application/vnd.jupyter.widget-view+json": {
       "model_id": "",
       "version_major": 2,
       "version_minor": 0
      },
      "text/plain": [
       "HBox(children=(FloatProgress(value=1.0, bar_style='info', description='Validation sanity check', layout=Layout…"
      ]
     },
     "metadata": {},
     "output_type": "display_data"
    },
    {
     "data": {
      "application/vnd.jupyter.widget-view+json": {
       "model_id": "d26e6e5d435f4882b19eb0fd0deb745d",
       "version_major": 2,
       "version_minor": 0
      },
      "text/plain": [
       "HBox(children=(FloatProgress(value=1.0, bar_style='info', description='Training', layout=Layout(flex='2'), max…"
      ]
     },
     "metadata": {},
     "output_type": "display_data"
    },
    {
     "data": {
      "application/vnd.jupyter.widget-view+json": {
       "model_id": "",
       "version_major": 2,
       "version_minor": 0
      },
      "text/plain": [
       "HBox(children=(FloatProgress(value=1.0, bar_style='info', description='Validating', layout=Layout(flex='2'), m…"
      ]
     },
     "metadata": {},
     "output_type": "display_data"
    },
    {
     "data": {
      "application/vnd.jupyter.widget-view+json": {
       "model_id": "",
       "version_major": 2,
       "version_minor": 0
      },
      "text/plain": [
       "HBox(children=(FloatProgress(value=1.0, bar_style='info', description='Validating', layout=Layout(flex='2'), m…"
      ]
     },
     "metadata": {},
     "output_type": "display_data"
    },
    {
     "data": {
      "application/vnd.jupyter.widget-view+json": {
       "model_id": "",
       "version_major": 2,
       "version_minor": 0
      },
      "text/plain": [
       "HBox(children=(FloatProgress(value=1.0, bar_style='info', description='Validating', layout=Layout(flex='2'), m…"
      ]
     },
     "metadata": {},
     "output_type": "display_data"
    },
    {
     "data": {
      "application/vnd.jupyter.widget-view+json": {
       "model_id": "",
       "version_major": 2,
       "version_minor": 0
      },
      "text/plain": [
       "HBox(children=(FloatProgress(value=1.0, bar_style='info', description='Validating', layout=Layout(flex='2'), m…"
      ]
     },
     "metadata": {},
     "output_type": "display_data"
    },
    {
     "data": {
      "application/vnd.jupyter.widget-view+json": {
       "model_id": "",
       "version_major": 2,
       "version_minor": 0
      },
      "text/plain": [
       "HBox(children=(FloatProgress(value=1.0, bar_style='info', description='Validating', layout=Layout(flex='2'), m…"
      ]
     },
     "metadata": {},
     "output_type": "display_data"
    },
    {
     "name": "stdout",
     "output_type": "stream",
     "text": [
      "\n"
     ]
    }
   ],
   "source": [
    "config = {\n",
    "    \"layer_1_size\": 128,\n",
    "    \"layer_2_size\": 256,\n",
    "    \"lr\": 1e-3,\n",
    "    \"batch_size\": 64,\n",
    "    \"num_workers\":4\n",
    "}\n",
    "train_mnist(config)"
   ]
  },
  {
   "cell_type": "code",
   "execution_count": 112,
   "metadata": {
    "ExecuteTime": {
     "end_time": "2020-07-02T00:13:17.965375Z",
     "start_time": "2020-07-02T00:13:17.959002Z"
    }
   },
   "outputs": [],
   "source": []
  },
  {
   "cell_type": "code",
   "execution_count": 128,
   "metadata": {
    "ExecuteTime": {
     "end_time": "2020-07-02T00:39:15.072134Z",
     "start_time": "2020-07-02T00:39:15.062258Z"
    }
   },
   "outputs": [
    {
     "data": {
      "text/plain": [
       "(numpy.int64, int)"
      ]
     },
     "execution_count": 128,
     "metadata": {},
     "output_type": "execute_result"
    }
   ],
   "source": [
    "# note type difference. a bunch of stuff (eg tensorboard,pytorch dataloader) \n",
    "# dont like when np.int64 passed instead of int.\n",
    "ch1 = tune.choice([10,20,30])\n",
    "ch2 = tune.choice(np.array([10,20,30], dtype=np.object))\n",
    "type(ch1.func(_)), type(ch2.func(_))"
   ]
  },
  {
   "cell_type": "code",
   "execution_count": 117,
   "metadata": {
    "ExecuteTime": {
     "end_time": "2020-07-02T00:15:07.852879Z",
     "start_time": "2020-07-02T00:15:07.837668Z"
    }
   },
   "outputs": [],
   "source": [
    "class TuneReportCallback(Callback):\n",
    "    def on_validation_end(self, trainer, pl_module):\n",
    "        tune.report(\n",
    "            loss=trainer.callback_metrics[\"avg_val_loss\"].item(),\n",
    "            mean_accuracy=trainer.callback_metrics[\"avg_val_accuracy\"].item()\n",
    "        )\n",
    "\n",
    "def train_mnist_tune(config):\n",
    "    model = LightningMNISTClassifier(config, config[\"data_dir\"])\n",
    "    trainer = pl.Trainer(\n",
    "        max_epochs=10,\n",
    "        gpus=1,\n",
    "        progress_bar_refresh_rate=0,\n",
    "        callbacks=[TuneReportCallback()])\n",
    "\n",
    "    trainer.fit(model)\n",
    "\n",
    "def tune_mnist_asha(local_dir):\n",
    "    data_dir = mkdtemp(prefix=\"mnist_data_\")\n",
    "    LightningMNISTClassifier.download_data(data_dir)\n",
    "    config = {\n",
    "        \"layer_1_size\": tune.choice(np.array([32, 64, 128], dtype=np.object)), # to keep dtype as python int\n",
    "        \"layer_2_size\": tune.choice(np.array([64, 128, 256], dtype=np.object)),\n",
    "        \"lr\": tune.loguniform(1e-4, 1e-1),\n",
    "        \"batch_size\": tune.choice(np.array([32, 64, 128], dtype=np.object)),\n",
    "        \"data_dir\": data_dir,\n",
    "        \"num_workers\":4\n",
    "    }\n",
    "    scheduler = ASHAScheduler(\n",
    "        metric=\"loss\",\n",
    "        mode=\"min\",\n",
    "        max_t=10,\n",
    "        grace_period=1,\n",
    "        reduction_factor=2)\n",
    "    reporter = JupyterNotebookReporter(overwrite=True,\n",
    "        metric_columns=[\"loss\", \"mean_accuracy\", \"training_iteration\"],\n",
    "        parameter_columns=[\"layer_1_size\", \"layer_2_size\", \"lr\", \"batch_size\"], # not yet in pip install ray[tune]\n",
    "    )\n",
    "    res = tune.run(\n",
    "        train_mnist_tune,\n",
    "        resources_per_trial={\"cpu\": 1, 'gpu':.2},\n",
    "        config=config,\n",
    "        local_dir=local_dir,\n",
    "        num_samples=10,\n",
    "        scheduler=scheduler,\n",
    "        progress_reporter=reporter,\n",
    "    )\n",
    "    shutil.rmtree(data_dir)\n",
    "    return res"
   ]
  },
  {
   "cell_type": "code",
   "execution_count": 38,
   "metadata": {
    "ExecuteTime": {
     "end_time": "2020-07-01T23:33:37.933023Z",
     "start_time": "2020-07-01T23:32:20.901938Z"
    },
    "scrolled": true
   },
   "outputs": [
    {
     "data": {
      "text/html": [
       "== Status ==<br>Memory usage on this node: 5.7/62.8 GiB<br>Using AsyncHyperBand: num_stopped=10\n",
       "Bracket: Iter 8.000: -0.15527471899986267 | Iter 4.000: -0.14060309529304504 | Iter 2.000: -0.12008608877658844 | Iter 1.000: -0.18720269203186035<br>Resources requested: 0/16 CPUs, 0.0/1 GPUs, 0.0/35.79 GiB heap, 0.0/12.35 GiB objects<br>Result logdir: /nvme_drive/orm/car_stuff/vroom_nbs/ray_mnist_asha/train_mnist_tune<br>Number of trials: 10 (10 TERMINATED)<br><table>\n",
       "<thead>\n",
       "<tr><th>Trial name                  </th><th>status    </th><th>loc  </th><th style=\"text-align: right;\">  batch_size</th><th style=\"text-align: right;\">  layer_1_size</th><th style=\"text-align: right;\">  layer_2_size</th><th style=\"text-align: right;\">         lr</th><th style=\"text-align: right;\">    loss</th><th style=\"text-align: right;\">  mean_accuracy</th><th style=\"text-align: right;\">  training_iteration</th></tr>\n",
       "</thead>\n",
       "<tbody>\n",
       "<tr><td>train_mnist_tune_1ec51_00000</td><td>TERMINATED</td><td>     </td><td style=\"text-align: right;\">          64</td><td style=\"text-align: right;\">            64</td><td style=\"text-align: right;\">           128</td><td style=\"text-align: right;\">0.00188364 </td><td style=\"text-align: right;\">0.15708 </td><td style=\"text-align: right;\">       0.959652</td><td style=\"text-align: right;\">                   4</td></tr>\n",
       "<tr><td>train_mnist_tune_1ec51_00001</td><td>TERMINATED</td><td>     </td><td style=\"text-align: right;\">          64</td><td style=\"text-align: right;\">           128</td><td style=\"text-align: right;\">            64</td><td style=\"text-align: right;\">0.000377129</td><td style=\"text-align: right;\">0.205501</td><td style=\"text-align: right;\">       0.941258</td><td style=\"text-align: right;\">                   1</td></tr>\n",
       "<tr><td>train_mnist_tune_1ec51_00002</td><td>TERMINATED</td><td>     </td><td style=\"text-align: right;\">         128</td><td style=\"text-align: right;\">            64</td><td style=\"text-align: right;\">            64</td><td style=\"text-align: right;\">0.0118723  </td><td style=\"text-align: right;\">0.184885</td><td style=\"text-align: right;\">       0.957812</td><td style=\"text-align: right;\">                  10</td></tr>\n",
       "<tr><td>train_mnist_tune_1ec51_00003</td><td>TERMINATED</td><td>     </td><td style=\"text-align: right;\">          64</td><td style=\"text-align: right;\">           128</td><td style=\"text-align: right;\">           256</td><td style=\"text-align: right;\">0.00110605 </td><td style=\"text-align: right;\">0.122183</td><td style=\"text-align: right;\">       0.973497</td><td style=\"text-align: right;\">                  10</td></tr>\n",
       "<tr><td>train_mnist_tune_1ec51_00004</td><td>TERMINATED</td><td>     </td><td style=\"text-align: right;\">          64</td><td style=\"text-align: right;\">            64</td><td style=\"text-align: right;\">           256</td><td style=\"text-align: right;\">0.0459378  </td><td style=\"text-align: right;\">1.44557 </td><td style=\"text-align: right;\">       0.432358</td><td style=\"text-align: right;\">                   1</td></tr>\n",
       "<tr><td>train_mnist_tune_1ec51_00005</td><td>TERMINATED</td><td>     </td><td style=\"text-align: right;\">         128</td><td style=\"text-align: right;\">            32</td><td style=\"text-align: right;\">           256</td><td style=\"text-align: right;\">0.000818334</td><td style=\"text-align: right;\">0.210547</td><td style=\"text-align: right;\">       0.937109</td><td style=\"text-align: right;\">                   1</td></tr>\n",
       "<tr><td>train_mnist_tune_1ec51_00006</td><td>TERMINATED</td><td>     </td><td style=\"text-align: right;\">         128</td><td style=\"text-align: right;\">            64</td><td style=\"text-align: right;\">           128</td><td style=\"text-align: right;\">0.000203156</td><td style=\"text-align: right;\">0.308827</td><td style=\"text-align: right;\">       0.90957 </td><td style=\"text-align: right;\">                   1</td></tr>\n",
       "<tr><td>train_mnist_tune_1ec51_00007</td><td>TERMINATED</td><td>     </td><td style=\"text-align: right;\">          32</td><td style=\"text-align: right;\">           128</td><td style=\"text-align: right;\">           256</td><td style=\"text-align: right;\">0.000949311</td><td style=\"text-align: right;\">0.140603</td><td style=\"text-align: right;\">       0.965764</td><td style=\"text-align: right;\">                   4</td></tr>\n",
       "<tr><td>train_mnist_tune_1ec51_00008</td><td>TERMINATED</td><td>     </td><td style=\"text-align: right;\">         128</td><td style=\"text-align: right;\">            64</td><td style=\"text-align: right;\">           128</td><td style=\"text-align: right;\">0.000148696</td><td style=\"text-align: right;\">0.345566</td><td style=\"text-align: right;\">       0.902539</td><td style=\"text-align: right;\">                   1</td></tr>\n",
       "<tr><td>train_mnist_tune_1ec51_00009</td><td>TERMINATED</td><td>     </td><td style=\"text-align: right;\">          64</td><td style=\"text-align: right;\">           128</td><td style=\"text-align: right;\">            64</td><td style=\"text-align: right;\">0.00204752 </td><td style=\"text-align: right;\">0.120947</td><td style=\"text-align: right;\">       0.97231 </td><td style=\"text-align: right;\">                  10</td></tr>\n",
       "</tbody>\n",
       "</table><br><br>"
      ],
      "text/plain": [
       "<IPython.core.display.HTML object>"
      ]
     },
     "metadata": {},
     "output_type": "display_data"
    }
   ],
   "source": [
    "ray.shutdown()\n",
    "res = tune_mnist_asha(local_dir='./ray_mnist_asha/')"
   ]
  },
  {
   "cell_type": "code",
   "execution_count": 123,
   "metadata": {
    "ExecuteTime": {
     "end_time": "2020-07-02T00:16:00.538329Z",
     "start_time": "2020-07-02T00:16:00.532430Z"
    }
   },
   "outputs": [
    {
     "name": "stdout",
     "output_type": "stream",
     "text": [
      "The tensorboard extension is already loaded. To reload it, use:\n",
      "  %reload_ext tensorboard\n"
     ]
    }
   ],
   "source": [
    "%load_ext tensorboard\n",
    "%tensorboard --logdir=./ray_mnist_asha/"
   ]
  },
  {
   "cell_type": "code",
   "execution_count": 40,
   "metadata": {
    "ExecuteTime": {
     "end_time": "2020-07-01T23:34:11.008966Z",
     "start_time": "2020-07-01T23:34:11.001826Z"
    }
   },
   "outputs": [],
   "source": [
    "class CheckpointCallback(Callback):\n",
    "    def on_validation_end(self, trainer, pl_module):\n",
    "        path = tune.make_checkpoint_dir(trainer.global_step)\n",
    "        trainer.save_checkpoint(os.path.join(path, \"checkpoint\"))\n",
    "        tune.save_checkpoint(path)"
   ]
  },
  {
   "cell_type": "code",
   "execution_count": 116,
   "metadata": {
    "ExecuteTime": {
     "end_time": "2020-07-02T00:14:37.291560Z",
     "start_time": "2020-07-02T00:14:37.282137Z"
    }
   },
   "outputs": [],
   "source": [
    "def train_mnist_tune_checkpoint(config, checkpoint=None):\n",
    "    if checkpoint is None or len(checkpoint) == 0: # sometimes gets {} as input.\n",
    "        checkpoint_path = None\n",
    "    else:\n",
    "        checkpoint_path = os.path.join(checkpoint, \"checkpoint\")\n",
    "\n",
    "    trainer = pl.Trainer(\n",
    "        max_epochs=10,\n",
    "        gpus=1,\n",
    "        progress_bar_refresh_rate=0,\n",
    "        callbacks=[CheckpointCallback(),\n",
    "                   TuneReportCallback(), \n",
    "                   pl.callbacks.LearningRateLogger()\n",
    "                  ],\n",
    "        resume_from_checkpoint=checkpoint_path)\n",
    "    \n",
    "    model = LightningMNISTClassifier(config)\n",
    "    trainer.fit(model)"
   ]
  },
  {
   "cell_type": "code",
   "execution_count": 118,
   "metadata": {
    "ExecuteTime": {
     "end_time": "2020-07-02T00:15:11.736813Z",
     "start_time": "2020-07-02T00:15:11.727430Z"
    }
   },
   "outputs": [],
   "source": [
    "def tune_mnist_pbt(local_dir):\n",
    "    data_dir = mkdtemp(prefix=\"mnist_data_\")\n",
    "    LightningMNISTClassifier.download_data(data_dir)\n",
    "    config = {\n",
    "        \"layer_1_size\": tune.choice(np.array([32, 64, 128], dtype=np.object)), # to keep dtype as python int\n",
    "        \"layer_2_size\": tune.choice(np.array([64, 128, 256], dtype=np.object)),\n",
    "        \"lr\": 1e-3,\n",
    "        \"batch_size\": 64,\n",
    "        \"data_dir\": data_dir,\n",
    "        \"num_workers\": 3\n",
    "    }\n",
    "    scheduler = PopulationBasedTraining(\n",
    "        time_attr=\"training_iteration\",\n",
    "        metric=\"loss\",\n",
    "        mode=\"min\",\n",
    "        perturbation_interval=3,\n",
    "        hyperparam_mutations={\n",
    "            \"lr\": lambda: tune.loguniform(1e-4, 1e-1).func(None),\n",
    "            \"batch_size\": [32, 64, 128]\n",
    "        })\n",
    "    reporter = JupyterNotebookReporter(overwrite=False,\n",
    "        metric_columns=[\"loss\", \"mean_accuracy\", \"training_iteration\"],\n",
    "        parameter_columns=[\"layer_1_size\", \"layer_2_size\", \"lr\", \"batch_size\"],\n",
    "        )\n",
    "    res = tune.run(\n",
    "        train_mnist_tune_checkpoint,\n",
    "        resources_per_trial={\"cpu\": 1, 'gpu':.3},\n",
    "        config=config,\n",
    "        local_dir=local_dir,\n",
    "        num_samples=3,\n",
    "        scheduler=scheduler,\n",
    "        progress_reporter=reporter)\n",
    "                                       \n",
    "    shutil.rmtree(data_dir)\n",
    "    return res"
   ]
  },
  {
   "cell_type": "code",
   "execution_count": 127,
   "metadata": {
    "ExecuteTime": {
     "end_time": "2020-07-02T00:17:27.597155Z",
     "start_time": "2020-07-02T00:16:30.991755Z"
    }
   },
   "outputs": [
    {
     "name": "stdout",
     "output_type": "stream",
     "text": [
      "Downloading http://yann.lecun.com/exdb/mnist/train-images-idx3-ubyte.gz to /tmp/mnist_data_ctfm5foh/MNIST/raw/train-images-idx3-ubyte.gz\n"
     ]
    },
    {
     "data": {
      "application/vnd.jupyter.widget-view+json": {
       "model_id": "be1232b9824042d7a20b0ccd90460e47",
       "version_major": 2,
       "version_minor": 0
      },
      "text/plain": [
       "HBox(children=(FloatProgress(value=1.0, bar_style='info', max=1.0), HTML(value='')))"
      ]
     },
     "metadata": {},
     "output_type": "display_data"
    },
    {
     "name": "stdout",
     "output_type": "stream",
     "text": [
      "Extracting /tmp/mnist_data_ctfm5foh/MNIST/raw/train-images-idx3-ubyte.gz to /tmp/mnist_data_ctfm5foh/MNIST/raw\n",
      "Downloading http://yann.lecun.com/exdb/mnist/train-labels-idx1-ubyte.gz to /tmp/mnist_data_ctfm5foh/MNIST/raw/train-labels-idx1-ubyte.gz\n",
      "\n"
     ]
    },
    {
     "data": {
      "application/vnd.jupyter.widget-view+json": {
       "model_id": "84d990c8f7ff4a26b55e2e9af6d358fb",
       "version_major": 2,
       "version_minor": 0
      },
      "text/plain": [
       "HBox(children=(FloatProgress(value=1.0, bar_style='info', max=1.0), HTML(value='')))"
      ]
     },
     "metadata": {},
     "output_type": "display_data"
    },
    {
     "name": "stdout",
     "output_type": "stream",
     "text": [
      "Extracting /tmp/mnist_data_ctfm5foh/MNIST/raw/train-labels-idx1-ubyte.gz to /tmp/mnist_data_ctfm5foh/MNIST/raw\n",
      "Downloading http://yann.lecun.com/exdb/mnist/t10k-images-idx3-ubyte.gz to /tmp/mnist_data_ctfm5foh/MNIST/raw/t10k-images-idx3-ubyte.gz\n"
     ]
    },
    {
     "data": {
      "application/vnd.jupyter.widget-view+json": {
       "model_id": "e501d82a41064043ac8ddba0cab67491",
       "version_major": 2,
       "version_minor": 0
      },
      "text/plain": [
       "HBox(children=(FloatProgress(value=1.0, bar_style='info', max=1.0), HTML(value='')))"
      ]
     },
     "metadata": {},
     "output_type": "display_data"
    },
    {
     "name": "stdout",
     "output_type": "stream",
     "text": [
      "Extracting /tmp/mnist_data_ctfm5foh/MNIST/raw/t10k-images-idx3-ubyte.gz to /tmp/mnist_data_ctfm5foh/MNIST/raw\n",
      "Downloading http://yann.lecun.com/exdb/mnist/t10k-labels-idx1-ubyte.gz to /tmp/mnist_data_ctfm5foh/MNIST/raw/t10k-labels-idx1-ubyte.gz\n"
     ]
    },
    {
     "data": {
      "application/vnd.jupyter.widget-view+json": {
       "model_id": "11010ac5584f4a11a6526236416dfc15",
       "version_major": 2,
       "version_minor": 0
      },
      "text/plain": [
       "HBox(children=(FloatProgress(value=1.0, bar_style='info', max=1.0), HTML(value='')))"
      ]
     },
     "metadata": {},
     "output_type": "display_data"
    },
    {
     "name": "stdout",
     "output_type": "stream",
     "text": [
      "Extracting /tmp/mnist_data_ctfm5foh/MNIST/raw/t10k-labels-idx1-ubyte.gz to /tmp/mnist_data_ctfm5foh/MNIST/raw\n",
      "Processing...\n",
      "Done!\n",
      "\n",
      "\n"
     ]
    },
    {
     "data": {
      "text/html": [
       "== Status ==<br>Memory usage on this node: 4.0/62.8 GiB<br>PopulationBasedTraining: 0 checkpoints, 0 perturbs<br>Resources requested: 1/16 CPUs, 0.3/1 GPUs, 0.0/35.79 GiB heap, 0.0/12.35 GiB objects<br>Result logdir: /nvme_drive/orm/car_stuff/vroom_nbs/pbt_logs4/train_mnist_tune_checkpoint<br>Number of trials: 3 (2 PENDING, 1 RUNNING)<br><table>\n",
       "<thead>\n",
       "<tr><th>Trial name                             </th><th>status  </th><th>loc  </th><th style=\"text-align: right;\">  layer_1_size</th><th style=\"text-align: right;\">  layer_2_size</th><th style=\"text-align: right;\">   lr</th><th style=\"text-align: right;\">  batch_size</th></tr>\n",
       "</thead>\n",
       "<tbody>\n",
       "<tr><td>train_mnist_tune_checkpoint_48500_00000</td><td>RUNNING </td><td>     </td><td style=\"text-align: right;\">            64</td><td style=\"text-align: right;\">           256</td><td style=\"text-align: right;\">0.001</td><td style=\"text-align: right;\">          64</td></tr>\n",
       "<tr><td>train_mnist_tune_checkpoint_48500_00001</td><td>PENDING </td><td>     </td><td style=\"text-align: right;\">           128</td><td style=\"text-align: right;\">           256</td><td style=\"text-align: right;\">0.001</td><td style=\"text-align: right;\">          64</td></tr>\n",
       "<tr><td>train_mnist_tune_checkpoint_48500_00002</td><td>PENDING </td><td>     </td><td style=\"text-align: right;\">            32</td><td style=\"text-align: right;\">            64</td><td style=\"text-align: right;\">0.001</td><td style=\"text-align: right;\">          64</td></tr>\n",
       "</tbody>\n",
       "</table><br><br>"
      ],
      "text/plain": [
       "<IPython.core.display.HTML object>"
      ]
     },
     "metadata": {},
     "output_type": "display_data"
    },
    {
     "name": "stdout",
     "output_type": "stream",
     "text": [
      "\u001b[2m\u001b[36m(pid=23927)\u001b[0m Downloading http://yann.lecun.com/exdb/mnist/train-images-idx3-ubyte.gz to /nvme_drive/orm/car_stuff/vroom_nbs/pbt_logs4/train_mnist_tune_checkpoint/train_mnist_tune_checkpoint_0_layer_1_size=64,layer_2_size=256_2020-07-01_20-16-32dbjkw02e/MNIST/raw/train-images-idx3-ubyte.gz\n",
      "\u001b[2m\u001b[36m(pid=23927)\u001b[0m GPU available: True, used: True\n",
      "\u001b[2m\u001b[36m(pid=23927)\u001b[0m TPU available: False, using: 0 TPU cores\n",
      "\u001b[2m\u001b[36m(pid=23927)\u001b[0m CUDA_VISIBLE_DEVICES: [0]\n",
      "0it [00:00, ?it/s]7)\u001b[0m \n",
      "\u001b[2m\u001b[36m(pid=23929)\u001b[0m GPU available: True, used: True\n",
      "\u001b[2m\u001b[36m(pid=23929)\u001b[0m TPU available: False, using: 0 TPU cores\n",
      "\u001b[2m\u001b[36m(pid=23929)\u001b[0m CUDA_VISIBLE_DEVICES: [0]\n",
      "0it [00:00, ?it/s]9)\u001b[0m \n",
      "\u001b[2m\u001b[36m(pid=23931)\u001b[0m Downloading http://yann.lecun.com/exdb/mnist/train-images-idx3-ubyte.gz to /nvme_drive/orm/car_stuff/vroom_nbs/pbt_logs4/train_mnist_tune_checkpoint/train_mnist_tune_checkpoint_2_layer_1_size=32,layer_2_size=64_2020-07-01_20-16-32auazt2qt/MNIST/raw/train-images-idx3-ubyte.gz\n",
      "\u001b[2m\u001b[36m(pid=23931)\u001b[0m GPU available: True, used: True\n",
      "\u001b[2m\u001b[36m(pid=23931)\u001b[0m TPU available: False, using: 0 TPU cores\n",
      "\u001b[2m\u001b[36m(pid=23931)\u001b[0m CUDA_VISIBLE_DEVICES: [0]\n",
      "0it [00:00, ?it/s]1)\u001b[0m \n",
      "\u001b[2m\u001b[36m(pid=23929)\u001b[0m Downloading http://yann.lecun.com/exdb/mnist/train-images-idx3-ubyte.gz to /nvme_drive/orm/car_stuff/vroom_nbs/pbt_logs4/train_mnist_tune_checkpoint/train_mnist_tune_checkpoint_1_layer_1_size=128,layer_2_size=256_2020-07-01_20-16-32zmhj0sem/MNIST/raw/train-images-idx3-ubyte.gz\n",
      "  0%|          | 16384/9912422 [00:00<01:08, 143588.56it/s]\n",
      "  0%|          | 16384/9912422 [00:00<01:10, 140391.67it/s]\n",
      " 30%|██▉       | 2965504/9912422 [00:00<00:33, 204699.22it/s]\n",
      "  0%|          | 16384/9912422 [00:00<01:09, 141811.57it/s]\n",
      "  5%|▍         | 458752/9912422 [00:00<00:47, 199709.21it/s]\n",
      "  8%|▊         | 753664/9912422 [00:00<00:46, 198935.40it/s]\n",
      "\u001b[2m\u001b[36m(pid=23927)\u001b[0m Extracting /nvme_drive/orm/car_stuff/vroom_nbs/pbt_logs4/train_mnist_tune_checkpoint/train_mnist_tune_checkpoint_0_layer_1_size=64,layer_2_size=256_2020-07-01_20-16-32dbjkw02e/MNIST/raw/train-images-idx3-ubyte.gz to /nvme_drive/orm/car_stuff/vroom_nbs/pbt_logs4/train_mnist_tune_checkpoint/train_mnist_tune_checkpoint_0_layer_1_size=64,layer_2_size=256_2020-07-01_20-16-32dbjkw02e/MNIST/raw\n",
      "9920512it [00:00, 29111169.92it/s]                           \n",
      " 19%|█▉        | 1884160/9912422 [00:00<00:28, 283593.52it/s]\n",
      " 33%|███▎      | 3244032/9912422 [00:00<00:23, 283222.38it/s]\n",
      " 40%|███▉      | 3956736/9912422 [00:00<00:14, 402754.87it/s]\n",
      "9920512it [00:00, 21777172.33it/s]                           \n",
      "\u001b[2m\u001b[36m(pid=23931)\u001b[0m Extracting /nvme_drive/orm/car_stuff/vroom_nbs/pbt_logs4/train_mnist_tune_checkpoint/train_mnist_tune_checkpoint_2_layer_1_size=32,layer_2_size=64_2020-07-01_20-16-32auazt2qt/MNIST/raw/train-images-idx3-ubyte.gz to /nvme_drive/orm/car_stuff/vroom_nbs/pbt_logs4/train_mnist_tune_checkpoint/train_mnist_tune_checkpoint_2_layer_1_size=32,layer_2_size=64_2020-07-01_20-16-32auazt2qt/MNIST/raw\n",
      "9920512it [00:00, 19777846.99it/s]                           \n",
      "\u001b[2m\u001b[36m(pid=23929)\u001b[0m Extracting /nvme_drive/orm/car_stuff/vroom_nbs/pbt_logs4/train_mnist_tune_checkpoint/train_mnist_tune_checkpoint_1_layer_1_size=128,layer_2_size=256_2020-07-01_20-16-32zmhj0sem/MNIST/raw/train-images-idx3-ubyte.gz to /nvme_drive/orm/car_stuff/vroom_nbs/pbt_logs4/train_mnist_tune_checkpoint/train_mnist_tune_checkpoint_1_layer_1_size=128,layer_2_size=256_2020-07-01_20-16-32zmhj0sem/MNIST/raw\n",
      "\u001b[2m\u001b[36m(pid=23927)\u001b[0m Downloading http://yann.lecun.com/exdb/mnist/train-labels-idx1-ubyte.gz to /nvme_drive/orm/car_stuff/vroom_nbs/pbt_logs4/train_mnist_tune_checkpoint/train_mnist_tune_checkpoint_0_layer_1_size=64,layer_2_size=256_2020-07-01_20-16-32dbjkw02e/MNIST/raw/train-labels-idx1-ubyte.gz\n",
      "0it [00:00, ?it/s]7)\u001b[0m \n",
      "\u001b[2m\u001b[36m(pid=23927)\u001b[0m Extracting /nvme_drive/orm/car_stuff/vroom_nbs/pbt_logs4/train_mnist_tune_checkpoint/train_mnist_tune_checkpoint_0_layer_1_size=64,layer_2_size=256_2020-07-01_20-16-32dbjkw02e/MNIST/raw/train-labels-idx1-ubyte.gz to /nvme_drive/orm/car_stuff/vroom_nbs/pbt_logs4/train_mnist_tune_checkpoint/train_mnist_tune_checkpoint_0_layer_1_size=64,layer_2_size=256_2020-07-01_20-16-32dbjkw02e/MNIST/raw\n",
      "\u001b[2m\u001b[36m(pid=23927)\u001b[0m Downloading http://yann.lecun.com/exdb/mnist/t10k-images-idx3-ubyte.gz to /nvme_drive/orm/car_stuff/vroom_nbs/pbt_logs4/train_mnist_tune_checkpoint/train_mnist_tune_checkpoint_0_layer_1_size=64,layer_2_size=256_2020-07-01_20-16-32dbjkw02e/MNIST/raw/t10k-images-idx3-ubyte.gz\n",
      "32768it [00:00, 477774.33it/s]\n",
      "0it [00:00, ?it/s]7)\u001b[0m \n",
      "\u001b[2m\u001b[36m(pid=23931)\u001b[0m Downloading http://yann.lecun.com/exdb/mnist/train-labels-idx1-ubyte.gz to /nvme_drive/orm/car_stuff/vroom_nbs/pbt_logs4/train_mnist_tune_checkpoint/train_mnist_tune_checkpoint_2_layer_1_size=32,layer_2_size=64_2020-07-01_20-16-32auazt2qt/MNIST/raw/train-labels-idx1-ubyte.gz\n",
      "0it [00:00, ?it/s]1)\u001b[0m \n",
      "  1%|          | 16384/1648877 [00:00<00:11, 142971.97it/s]\n",
      "0it [00:00, ?it/s]9)\u001b[0m \n",
      "\u001b[2m\u001b[36m(pid=23931)\u001b[0m Extracting /nvme_drive/orm/car_stuff/vroom_nbs/pbt_logs4/train_mnist_tune_checkpoint/train_mnist_tune_checkpoint_2_layer_1_size=32,layer_2_size=64_2020-07-01_20-16-32auazt2qt/MNIST/raw/train-labels-idx1-ubyte.gz to /nvme_drive/orm/car_stuff/vroom_nbs/pbt_logs4/train_mnist_tune_checkpoint/train_mnist_tune_checkpoint_2_layer_1_size=32,layer_2_size=64_2020-07-01_20-16-32auazt2qt/MNIST/raw\n",
      "\u001b[2m\u001b[36m(pid=23931)\u001b[0m Downloading http://yann.lecun.com/exdb/mnist/t10k-images-idx3-ubyte.gz to /nvme_drive/orm/car_stuff/vroom_nbs/pbt_logs4/train_mnist_tune_checkpoint/train_mnist_tune_checkpoint_2_layer_1_size=32,layer_2_size=64_2020-07-01_20-16-32auazt2qt/MNIST/raw/t10k-images-idx3-ubyte.gz\n",
      "32768it [00:00, 457143.94it/s]\n",
      "0it [00:00, ?it/s]1)\u001b[0m \n",
      "\u001b[2m\u001b[36m(pid=23929)\u001b[0m Downloading http://yann.lecun.com/exdb/mnist/train-labels-idx1-ubyte.gz to /nvme_drive/orm/car_stuff/vroom_nbs/pbt_logs4/train_mnist_tune_checkpoint/train_mnist_tune_checkpoint_1_layer_1_size=128,layer_2_size=256_2020-07-01_20-16-32zmhj0sem/MNIST/raw/train-labels-idx1-ubyte.gz\n",
      "32768it [00:00, 460193.04it/s]\n",
      "0it [00:00, ?it/s]9)\u001b[0m \n",
      "\u001b[2m\u001b[36m(pid=23929)\u001b[0m Extracting /nvme_drive/orm/car_stuff/vroom_nbs/pbt_logs4/train_mnist_tune_checkpoint/train_mnist_tune_checkpoint_1_layer_1_size=128,layer_2_size=256_2020-07-01_20-16-32zmhj0sem/MNIST/raw/train-labels-idx1-ubyte.gz to /nvme_drive/orm/car_stuff/vroom_nbs/pbt_logs4/train_mnist_tune_checkpoint/train_mnist_tune_checkpoint_1_layer_1_size=128,layer_2_size=256_2020-07-01_20-16-32zmhj0sem/MNIST/raw\n",
      "\u001b[2m\u001b[36m(pid=23929)\u001b[0m Downloading http://yann.lecun.com/exdb/mnist/t10k-images-idx3-ubyte.gz to /nvme_drive/orm/car_stuff/vroom_nbs/pbt_logs4/train_mnist_tune_checkpoint/train_mnist_tune_checkpoint_1_layer_1_size=128,layer_2_size=256_2020-07-01_20-16-32zmhj0sem/MNIST/raw/t10k-images-idx3-ubyte.gz\n",
      "\u001b[2m\u001b[36m(pid=23927)\u001b[0m Extracting /nvme_drive/orm/car_stuff/vroom_nbs/pbt_logs4/train_mnist_tune_checkpoint/train_mnist_tune_checkpoint_0_layer_1_size=64,layer_2_size=256_2020-07-01_20-16-32dbjkw02e/MNIST/raw/t10k-images-idx3-ubyte.gz to /nvme_drive/orm/car_stuff/vroom_nbs/pbt_logs4/train_mnist_tune_checkpoint/train_mnist_tune_checkpoint_0_layer_1_size=64,layer_2_size=256_2020-07-01_20-16-32dbjkw02e/MNIST/raw\n",
      "1654784it [00:00, 7070207.49it/s]                            \n",
      "  1%|          | 16384/1648877 [00:00<00:11, 142022.59it/s]\n",
      "\u001b[2m\u001b[36m(pid=23927)\u001b[0m Downloading http://yann.lecun.com/exdb/mnist/t10k-labels-idx1-ubyte.gz to /nvme_drive/orm/car_stuff/vroom_nbs/pbt_logs4/train_mnist_tune_checkpoint/train_mnist_tune_checkpoint_0_layer_1_size=64,layer_2_size=256_2020-07-01_20-16-32dbjkw02e/MNIST/raw/t10k-labels-idx1-ubyte.gz\n",
      "0it [00:00, ?it/s]7)\u001b[0m \n",
      "  3%|▎         | 49152/1648877 [00:00<00:03, 484534.84it/s]\n",
      "\u001b[2m\u001b[36m(pid=23927)\u001b[0m Extracting /nvme_drive/orm/car_stuff/vroom_nbs/pbt_logs4/train_mnist_tune_checkpoint/train_mnist_tune_checkpoint_0_layer_1_size=64,layer_2_size=256_2020-07-01_20-16-32dbjkw02e/MNIST/raw/t10k-labels-idx1-ubyte.gz to /nvme_drive/orm/car_stuff/vroom_nbs/pbt_logs4/train_mnist_tune_checkpoint/train_mnist_tune_checkpoint_0_layer_1_size=64,layer_2_size=256_2020-07-01_20-16-32dbjkw02e/MNIST/raw\n",
      "\u001b[2m\u001b[36m(pid=23927)\u001b[0m Processing...\n",
      "8192it [00:00, 131393.79it/s]\n",
      "\u001b[2m\u001b[36m(pid=23927)\u001b[0m /opt/conda/conda-bld/pytorch_1591914855613/work/torch/csrc/utils/tensor_numpy.cpp:141: UserWarning: The given NumPy array is not writeable, and PyTorch does not support non-writeable tensors. This means you can write to the underlying (supposedly non-writeable) NumPy array using the tensor. You may want to copy the array to protect its data or make it writeable before converting it to a tensor. This type of warning will be suppressed for the rest of this program.\n",
      " 63%|██████▎   | 1040384/1648877 [00:00<00:03, 201689.05it/s]\n",
      "\u001b[2m\u001b[36m(pid=23927)\u001b[0m Done!\n",
      "1654784it [00:00, 8225342.23it/s]                          \n",
      "\u001b[2m\u001b[36m(pid=23931)\u001b[0m Extracting /nvme_drive/orm/car_stuff/vroom_nbs/pbt_logs4/train_mnist_tune_checkpoint/train_mnist_tune_checkpoint_2_layer_1_size=32,layer_2_size=64_2020-07-01_20-16-32auazt2qt/MNIST/raw/t10k-images-idx3-ubyte.gz to /nvme_drive/orm/car_stuff/vroom_nbs/pbt_logs4/train_mnist_tune_checkpoint/train_mnist_tune_checkpoint_2_layer_1_size=32,layer_2_size=64_2020-07-01_20-16-32auazt2qt/MNIST/raw\n",
      "1654784it [00:00, 6888370.64it/s]                            \n",
      "\u001b[2m\u001b[36m(pid=23929)\u001b[0m Extracting /nvme_drive/orm/car_stuff/vroom_nbs/pbt_logs4/train_mnist_tune_checkpoint/train_mnist_tune_checkpoint_1_layer_1_size=128,layer_2_size=256_2020-07-01_20-16-32zmhj0sem/MNIST/raw/t10k-images-idx3-ubyte.gz to /nvme_drive/orm/car_stuff/vroom_nbs/pbt_logs4/train_mnist_tune_checkpoint/train_mnist_tune_checkpoint_1_layer_1_size=128,layer_2_size=256_2020-07-01_20-16-32zmhj0sem/MNIST/raw\n"
     ]
    },
    {
     "name": "stdout",
     "output_type": "stream",
     "text": [
      "0it [00:00, ?it/s]9)\u001b[0m \n",
      "\u001b[2m\u001b[36m(pid=23931)\u001b[0m Downloading http://yann.lecun.com/exdb/mnist/t10k-labels-idx1-ubyte.gz to /nvme_drive/orm/car_stuff/vroom_nbs/pbt_logs4/train_mnist_tune_checkpoint/train_mnist_tune_checkpoint_2_layer_1_size=32,layer_2_size=64_2020-07-01_20-16-32auazt2qt/MNIST/raw/t10k-labels-idx1-ubyte.gz\n",
      "0it [00:00, ?it/s]1)\u001b[0m \n",
      "\u001b[2m\u001b[36m(pid=23929)\u001b[0m Downloading http://yann.lecun.com/exdb/mnist/t10k-labels-idx1-ubyte.gz to /nvme_drive/orm/car_stuff/vroom_nbs/pbt_logs4/train_mnist_tune_checkpoint/train_mnist_tune_checkpoint_1_layer_1_size=128,layer_2_size=256_2020-07-01_20-16-32zmhj0sem/MNIST/raw/t10k-labels-idx1-ubyte.gz\n",
      "8192it [00:00, 129102.06it/s]\n",
      "\u001b[2m\u001b[36m(pid=23929)\u001b[0m /opt/conda/conda-bld/pytorch_1591914855613/work/torch/csrc/utils/tensor_numpy.cpp:141: UserWarning: The given NumPy array is not writeable, and PyTorch does not support non-writeable tensors. This means you can write to the underlying (supposedly non-writeable) NumPy array using the tensor. You may want to copy the array to protect its data or make it writeable before converting it to a tensor. This type of warning will be suppressed for the rest of this program.\n",
      "\u001b[2m\u001b[36m(pid=23931)\u001b[0m Extracting /nvme_drive/orm/car_stuff/vroom_nbs/pbt_logs4/train_mnist_tune_checkpoint/train_mnist_tune_checkpoint_2_layer_1_size=32,layer_2_size=64_2020-07-01_20-16-32auazt2qt/MNIST/raw/t10k-labels-idx1-ubyte.gz to /nvme_drive/orm/car_stuff/vroom_nbs/pbt_logs4/train_mnist_tune_checkpoint/train_mnist_tune_checkpoint_2_layer_1_size=32,layer_2_size=64_2020-07-01_20-16-32auazt2qt/MNIST/raw\n",
      "\u001b[2m\u001b[36m(pid=23931)\u001b[0m Processing...\n",
      "8192it [00:00, 121986.66it/s]\n",
      "\u001b[2m\u001b[36m(pid=23931)\u001b[0m /opt/conda/conda-bld/pytorch_1591914855613/work/torch/csrc/utils/tensor_numpy.cpp:141: UserWarning: The given NumPy array is not writeable, and PyTorch does not support non-writeable tensors. This means you can write to the underlying (supposedly non-writeable) NumPy array using the tensor. You may want to copy the array to protect its data or make it writeable before converting it to a tensor. This type of warning will be suppressed for the rest of this program.\n",
      "\u001b[2m\u001b[36m(pid=23929)\u001b[0m Extracting /nvme_drive/orm/car_stuff/vroom_nbs/pbt_logs4/train_mnist_tune_checkpoint/train_mnist_tune_checkpoint_1_layer_1_size=128,layer_2_size=256_2020-07-01_20-16-32zmhj0sem/MNIST/raw/t10k-labels-idx1-ubyte.gz to /nvme_drive/orm/car_stuff/vroom_nbs/pbt_logs4/train_mnist_tune_checkpoint/train_mnist_tune_checkpoint_1_layer_1_size=128,layer_2_size=256_2020-07-01_20-16-32zmhj0sem/MNIST/raw\n",
      "\u001b[2m\u001b[36m(pid=23929)\u001b[0m Processing...\n",
      "\u001b[2m\u001b[36m(pid=23931)\u001b[0m Done!\n",
      "\u001b[2m\u001b[36m(pid=23929)\u001b[0m Done!\n",
      "\u001b[2m\u001b[36m(pid=23927)\u001b[0m \n",
      "\u001b[2m\u001b[36m(pid=23927)\u001b[0m   | Name    | Type   | Params\n",
      "\u001b[2m\u001b[36m(pid=23927)\u001b[0m -----------------------------------\n",
      "\u001b[2m\u001b[36m(pid=23927)\u001b[0m 0 | layer_1 | Linear | 50 K  \n",
      "\u001b[2m\u001b[36m(pid=23927)\u001b[0m 1 | layer_2 | Linear | 16 K  \n",
      "\u001b[2m\u001b[36m(pid=23927)\u001b[0m 2 | layer_3 | Linear | 2 K   \n",
      "\u001b[2m\u001b[36m(pid=23931)\u001b[0m \n",
      "\u001b[2m\u001b[36m(pid=23931)\u001b[0m   | Name    | Type   | Params\n",
      "\u001b[2m\u001b[36m(pid=23931)\u001b[0m -----------------------------------\n",
      "\u001b[2m\u001b[36m(pid=23931)\u001b[0m 0 | layer_1 | Linear | 25 K  \n",
      "\u001b[2m\u001b[36m(pid=23931)\u001b[0m 1 | layer_2 | Linear | 2 K   \n",
      "\u001b[2m\u001b[36m(pid=23931)\u001b[0m 2 | layer_3 | Linear | 650   \n",
      "\u001b[2m\u001b[36m(pid=23929)\u001b[0m \n",
      "\u001b[2m\u001b[36m(pid=23929)\u001b[0m   | Name    | Type   | Params\n",
      "\u001b[2m\u001b[36m(pid=23929)\u001b[0m -----------------------------------\n",
      "\u001b[2m\u001b[36m(pid=23929)\u001b[0m 0 | layer_1 | Linear | 100 K \n",
      "\u001b[2m\u001b[36m(pid=23929)\u001b[0m 1 | layer_2 | Linear | 33 K  \n",
      "\u001b[2m\u001b[36m(pid=23929)\u001b[0m 2 | layer_3 | Linear | 2 K   \n",
      "Result for train_mnist_tune_checkpoint_48500_00000:\n",
      "  date: 2020-07-01_20-16-40\n",
      "  done: false\n",
      "  experiment_id: 38f740b14d3540afbd647ac72d6610f3\n",
      "  experiment_tag: 0_layer_1_size=64,layer_2_size=256\n",
      "  hostname: claustrophobia\n",
      "  iterations_since_restore: 1\n",
      "  loss: 2.0029497146606445\n",
      "  mean_accuracy: 0.5862341523170471\n",
      "  node_ip: 10.0.0.207\n",
      "  pid: 23927\n",
      "  should_checkpoint: true\n",
      "  time_since_restore: 7.461336374282837\n",
      "  time_this_iter_s: 7.461336374282837\n",
      "  time_total_s: 7.461336374282837\n",
      "  timestamp: 1593649000\n",
      "  timesteps_since_restore: 0\n",
      "  training_iteration: 1\n",
      "  trial_id: '48500_00000'\n",
      "  \n"
     ]
    },
    {
     "data": {
      "text/html": [
       "== Status ==<br>Memory usage on this node: 7.8/62.8 GiB<br>PopulationBasedTraining: 0 checkpoints, 0 perturbs<br>Resources requested: 3/16 CPUs, 0.9/1 GPUs, 0.0/35.79 GiB heap, 0.0/12.35 GiB objects<br>Result logdir: /nvme_drive/orm/car_stuff/vroom_nbs/pbt_logs4/train_mnist_tune_checkpoint<br>Number of trials: 3 (3 RUNNING)<br><table>\n",
       "<thead>\n",
       "<tr><th>Trial name                             </th><th>status  </th><th>loc             </th><th style=\"text-align: right;\">  layer_1_size</th><th style=\"text-align: right;\">  layer_2_size</th><th style=\"text-align: right;\">   lr</th><th style=\"text-align: right;\">  batch_size</th><th style=\"text-align: right;\">   loss</th><th style=\"text-align: right;\">  mean_accuracy</th><th style=\"text-align: right;\">  training_iteration</th></tr>\n",
       "</thead>\n",
       "<tbody>\n",
       "<tr><td>train_mnist_tune_checkpoint_48500_00000</td><td>RUNNING </td><td>10.0.0.207:23927</td><td style=\"text-align: right;\">            64</td><td style=\"text-align: right;\">           256</td><td style=\"text-align: right;\">0.001</td><td style=\"text-align: right;\">          64</td><td style=\"text-align: right;\">2.00295</td><td style=\"text-align: right;\">       0.586234</td><td style=\"text-align: right;\">                   1</td></tr>\n",
       "<tr><td>train_mnist_tune_checkpoint_48500_00001</td><td>RUNNING </td><td>                </td><td style=\"text-align: right;\">           128</td><td style=\"text-align: right;\">           256</td><td style=\"text-align: right;\">0.001</td><td style=\"text-align: right;\">          64</td><td style=\"text-align: right;\">       </td><td style=\"text-align: right;\">               </td><td style=\"text-align: right;\">                    </td></tr>\n",
       "<tr><td>train_mnist_tune_checkpoint_48500_00002</td><td>RUNNING </td><td>                </td><td style=\"text-align: right;\">            32</td><td style=\"text-align: right;\">            64</td><td style=\"text-align: right;\">0.001</td><td style=\"text-align: right;\">          64</td><td style=\"text-align: right;\">       </td><td style=\"text-align: right;\">               </td><td style=\"text-align: right;\">                    </td></tr>\n",
       "</tbody>\n",
       "</table><br><br>"
      ],
      "text/plain": [
       "<IPython.core.display.HTML object>"
      ]
     },
     "metadata": {},
     "output_type": "display_data"
    },
    {
     "name": "stdout",
     "output_type": "stream",
     "text": [
      "Result for train_mnist_tune_checkpoint_48500_00002:\n",
      "  date: 2020-07-01_20-16-40\n",
      "  done: false\n",
      "  experiment_id: 1965d993bc2a4f139a6f13706511d9db\n",
      "  experiment_tag: 2_layer_1_size=32,layer_2_size=64\n",
      "  hostname: claustrophobia\n",
      "  iterations_since_restore: 1\n",
      "  loss: 2.076528549194336\n",
      "  mean_accuracy: 0.4521360695362091\n",
      "  node_ip: 10.0.0.207\n",
      "  pid: 23931\n",
      "  should_checkpoint: true\n",
      "  time_since_restore: 7.542717218399048\n",
      "  time_this_iter_s: 7.542717218399048\n",
      "  time_total_s: 7.542717218399048\n",
      "  timestamp: 1593649000\n",
      "  timesteps_since_restore: 0\n",
      "  training_iteration: 1\n",
      "  trial_id: '48500_00002'\n",
      "  \n",
      "Result for train_mnist_tune_checkpoint_48500_00001:\n",
      "  date: 2020-07-01_20-16-40\n",
      "  done: false\n",
      "  experiment_id: cc77c29d241a40029689ac6299af3267\n",
      "  experiment_tag: 1_layer_1_size=128,layer_2_size=256\n",
      "  hostname: claustrophobia\n",
      "  iterations_since_restore: 1\n",
      "  loss: 1.964975357055664\n",
      "  mean_accuracy: 0.606210470199585\n",
      "  node_ip: 10.0.0.207\n",
      "  pid: 23929\n",
      "  should_checkpoint: true\n",
      "  time_since_restore: 7.574398994445801\n",
      "  time_this_iter_s: 7.574398994445801\n",
      "  time_total_s: 7.574398994445801\n",
      "  timestamp: 1593649000\n",
      "  timesteps_since_restore: 0\n",
      "  training_iteration: 1\n",
      "  trial_id: '48500_00001'\n",
      "  \n"
     ]
    },
    {
     "data": {
      "text/html": [
       "== Status ==<br>Memory usage on this node: 7.8/62.8 GiB<br>PopulationBasedTraining: 0 checkpoints, 0 perturbs<br>Resources requested: 3/16 CPUs, 0.9/1 GPUs, 0.0/35.79 GiB heap, 0.0/12.35 GiB objects<br>Result logdir: /nvme_drive/orm/car_stuff/vroom_nbs/pbt_logs4/train_mnist_tune_checkpoint<br>Number of trials: 3 (3 RUNNING)<br><table>\n",
       "<thead>\n",
       "<tr><th>Trial name                             </th><th>status  </th><th>loc             </th><th style=\"text-align: right;\">  layer_1_size</th><th style=\"text-align: right;\">  layer_2_size</th><th style=\"text-align: right;\">   lr</th><th style=\"text-align: right;\">  batch_size</th><th style=\"text-align: right;\">   loss</th><th style=\"text-align: right;\">  mean_accuracy</th><th style=\"text-align: right;\">  training_iteration</th></tr>\n",
       "</thead>\n",
       "<tbody>\n",
       "<tr><td>train_mnist_tune_checkpoint_48500_00000</td><td>RUNNING </td><td>10.0.0.207:23927</td><td style=\"text-align: right;\">            64</td><td style=\"text-align: right;\">           256</td><td style=\"text-align: right;\">0.001</td><td style=\"text-align: right;\">          64</td><td style=\"text-align: right;\">1.3656 </td><td style=\"text-align: right;\">       0.740111</td><td style=\"text-align: right;\">                   2</td></tr>\n",
       "<tr><td>train_mnist_tune_checkpoint_48500_00001</td><td>RUNNING </td><td>10.0.0.207:23929</td><td style=\"text-align: right;\">           128</td><td style=\"text-align: right;\">           256</td><td style=\"text-align: right;\">0.001</td><td style=\"text-align: right;\">          64</td><td style=\"text-align: right;\">1.36715</td><td style=\"text-align: right;\">       0.738726</td><td style=\"text-align: right;\">                   2</td></tr>\n",
       "<tr><td>train_mnist_tune_checkpoint_48500_00002</td><td>RUNNING </td><td>10.0.0.207:23931</td><td style=\"text-align: right;\">            32</td><td style=\"text-align: right;\">            64</td><td style=\"text-align: right;\">0.001</td><td style=\"text-align: right;\">          64</td><td style=\"text-align: right;\">1.67813</td><td style=\"text-align: right;\">       0.54015 </td><td style=\"text-align: right;\">                   2</td></tr>\n",
       "</tbody>\n",
       "</table><br><br>"
      ],
      "text/plain": [
       "<IPython.core.display.HTML object>"
      ]
     },
     "metadata": {},
     "output_type": "display_data"
    },
    {
     "name": "stdout",
     "output_type": "stream",
     "text": [
      "Result for train_mnist_tune_checkpoint_48500_00000:\n",
      "  date: 2020-07-01_20-16-50\n",
      "  done: false\n",
      "  experiment_id: 38f740b14d3540afbd647ac72d6610f3\n",
      "  experiment_tag: 0_layer_1_size=64,layer_2_size=256\n",
      "  hostname: claustrophobia\n",
      "  iterations_since_restore: 3\n",
      "  loss: 0.9397650957107544\n",
      "  mean_accuracy: 0.8039952516555786\n",
      "  node_ip: 10.0.0.207\n",
      "  pid: 23927\n",
      "  should_checkpoint: true\n",
      "  time_since_restore: 16.699106454849243\n",
      "  time_this_iter_s: 4.637747526168823\n",
      "  time_total_s: 16.699106454849243\n",
      "  timestamp: 1593649010\n",
      "  timesteps_since_restore: 0\n",
      "  training_iteration: 3\n",
      "  trial_id: '48500_00000'\n",
      "  \n"
     ]
    },
    {
     "name": "stderr",
     "output_type": "stream",
     "text": [
      "2020-07-01 20:16:50,471\tINFO pbt.py:308 -- [pbt]: no checkpoint for trial. Skip exploit for Trial train_mnist_tune_checkpoint_48500_00002\n"
     ]
    },
    {
     "name": "stdout",
     "output_type": "stream",
     "text": [
      "Result for train_mnist_tune_checkpoint_48500_00002:\n",
      "  date: 2020-07-01_20-16-50\n",
      "  done: false\n",
      "  experiment_id: 1965d993bc2a4f139a6f13706511d9db\n",
      "  experiment_tag: 2_layer_1_size=32,layer_2_size=64\n",
      "  hostname: claustrophobia\n",
      "  iterations_since_restore: 3\n",
      "  loss: 1.2985531091690063\n",
      "  mean_accuracy: 0.701344907283783\n",
      "  node_ip: 10.0.0.207\n",
      "  pid: 23931\n",
      "  should_checkpoint: true\n",
      "  time_since_restore: 17.077626943588257\n",
      "  time_this_iter_s: 4.731122970581055\n",
      "  time_total_s: 17.077626943588257\n",
      "  timestamp: 1593649010\n",
      "  timesteps_since_restore: 0\n",
      "  training_iteration: 3\n",
      "  trial_id: '48500_00002'\n",
      "  \n",
      "Result for train_mnist_tune_checkpoint_48500_00001:\n",
      "  date: 2020-07-01_20-16-50\n",
      "  done: false\n",
      "  experiment_id: cc77c29d241a40029689ac6299af3267\n",
      "  experiment_tag: 1_layer_1_size=128,layer_2_size=256\n",
      "  hostname: claustrophobia\n",
      "  iterations_since_restore: 3\n",
      "  loss: 0.9618237018585205\n",
      "  mean_accuracy: 0.7972705960273743\n",
      "  node_ip: 10.0.0.207\n",
      "  pid: 23929\n",
      "  should_checkpoint: true\n",
      "  time_since_restore: 17.16254734992981\n",
      "  time_this_iter_s: 4.703075885772705\n",
      "  time_total_s: 17.16254734992981\n",
      "  timestamp: 1593649010\n",
      "  timesteps_since_restore: 0\n",
      "  training_iteration: 3\n",
      "  trial_id: '48500_00001'\n",
      "  \n"
     ]
    },
    {
     "data": {
      "text/html": [
       "== Status ==<br>Memory usage on this node: 7.8/62.8 GiB<br>PopulationBasedTraining: 0 checkpoints, 0 perturbs<br>Resources requested: 3/16 CPUs, 0.9/1 GPUs, 0.0/35.79 GiB heap, 0.0/12.35 GiB objects<br>Result logdir: /nvme_drive/orm/car_stuff/vroom_nbs/pbt_logs4/train_mnist_tune_checkpoint<br>Number of trials: 3 (3 RUNNING)<br><table>\n",
       "<thead>\n",
       "<tr><th>Trial name                             </th><th>status  </th><th>loc             </th><th style=\"text-align: right;\">  layer_1_size</th><th style=\"text-align: right;\">  layer_2_size</th><th style=\"text-align: right;\">   lr</th><th style=\"text-align: right;\">  batch_size</th><th style=\"text-align: right;\">    loss</th><th style=\"text-align: right;\">  mean_accuracy</th><th style=\"text-align: right;\">  training_iteration</th></tr>\n",
       "</thead>\n",
       "<tbody>\n",
       "<tr><td>train_mnist_tune_checkpoint_48500_00000</td><td>RUNNING </td><td>10.0.0.207:23927</td><td style=\"text-align: right;\">            64</td><td style=\"text-align: right;\">           256</td><td style=\"text-align: right;\">0.001</td><td style=\"text-align: right;\">          64</td><td style=\"text-align: right;\">0.75071 </td><td style=\"text-align: right;\">       0.831685</td><td style=\"text-align: right;\">                   4</td></tr>\n",
       "<tr><td>train_mnist_tune_checkpoint_48500_00001</td><td>RUNNING </td><td>10.0.0.207:23929</td><td style=\"text-align: right;\">           128</td><td style=\"text-align: right;\">           256</td><td style=\"text-align: right;\">0.001</td><td style=\"text-align: right;\">          64</td><td style=\"text-align: right;\">0.961824</td><td style=\"text-align: right;\">       0.797271</td><td style=\"text-align: right;\">                   3</td></tr>\n",
       "<tr><td>train_mnist_tune_checkpoint_48500_00002</td><td>RUNNING </td><td>10.0.0.207:23931</td><td style=\"text-align: right;\">            32</td><td style=\"text-align: right;\">            64</td><td style=\"text-align: right;\">0.001</td><td style=\"text-align: right;\">          64</td><td style=\"text-align: right;\">1.29855 </td><td style=\"text-align: right;\">       0.701345</td><td style=\"text-align: right;\">                   3</td></tr>\n",
       "</tbody>\n",
       "</table><br><br>"
      ],
      "text/plain": [
       "<IPython.core.display.HTML object>"
      ]
     },
     "metadata": {},
     "output_type": "display_data"
    },
    {
     "name": "stdout",
     "output_type": "stream",
     "text": [
      "Result for train_mnist_tune_checkpoint_48500_00000:\n",
      "  date: 2020-07-01_20-16-59\n",
      "  done: false\n",
      "  experiment_id: 38f740b14d3540afbd647ac72d6610f3\n",
      "  experiment_tag: 0_layer_1_size=64,layer_2_size=256\n",
      "  hostname: claustrophobia\n",
      "  iterations_since_restore: 5\n",
      "  loss: 0.6553573608398438\n",
      "  mean_accuracy: 0.8473101258277893\n",
      "  node_ip: 10.0.0.207\n",
      "  pid: 23927\n",
      "  should_checkpoint: true\n",
      "  time_since_restore: 26.240272760391235\n",
      "  time_this_iter_s: 4.824969530105591\n",
      "  time_total_s: 26.240272760391235\n",
      "  timestamp: 1593649019\n",
      "  timesteps_since_restore: 0\n",
      "  training_iteration: 5\n",
      "  trial_id: '48500_00000'\n",
      "  \n",
      "Result for train_mnist_tune_checkpoint_48500_00002:\n",
      "  date: 2020-07-01_20-16-59\n",
      "  done: false\n",
      "  experiment_id: 1965d993bc2a4f139a6f13706511d9db\n",
      "  experiment_tag: 2_layer_1_size=32,layer_2_size=64\n",
      "  hostname: claustrophobia\n",
      "  iterations_since_restore: 5\n",
      "  loss: 0.9121752381324768\n",
      "  mean_accuracy: 0.768789529800415\n",
      "  node_ip: 10.0.0.207\n",
      "  pid: 23931\n",
      "  should_checkpoint: true\n",
      "  time_since_restore: 26.55379009246826\n",
      "  time_this_iter_s: 4.79051947593689\n",
      "  time_total_s: 26.55379009246826\n",
      "  timestamp: 1593649019\n",
      "  timesteps_since_restore: 0\n",
      "  training_iteration: 5\n",
      "  trial_id: '48500_00002'\n",
      "  \n"
     ]
    },
    {
     "data": {
      "text/html": [
       "== Status ==<br>Memory usage on this node: 7.8/62.8 GiB<br>PopulationBasedTraining: 0 checkpoints, 0 perturbs<br>Resources requested: 3/16 CPUs, 0.9/1 GPUs, 0.0/35.79 GiB heap, 0.0/12.35 GiB objects<br>Result logdir: /nvme_drive/orm/car_stuff/vroom_nbs/pbt_logs4/train_mnist_tune_checkpoint<br>Number of trials: 3 (3 RUNNING)<br><table>\n",
       "<thead>\n",
       "<tr><th>Trial name                             </th><th>status  </th><th>loc             </th><th style=\"text-align: right;\">  layer_1_size</th><th style=\"text-align: right;\">  layer_2_size</th><th style=\"text-align: right;\">   lr</th><th style=\"text-align: right;\">  batch_size</th><th style=\"text-align: right;\">    loss</th><th style=\"text-align: right;\">  mean_accuracy</th><th style=\"text-align: right;\">  training_iteration</th></tr>\n",
       "</thead>\n",
       "<tbody>\n",
       "<tr><td>train_mnist_tune_checkpoint_48500_00000</td><td>RUNNING </td><td>10.0.0.207:23927</td><td style=\"text-align: right;\">            64</td><td style=\"text-align: right;\">           256</td><td style=\"text-align: right;\">0.001</td><td style=\"text-align: right;\">          64</td><td style=\"text-align: right;\">0.655357</td><td style=\"text-align: right;\">       0.84731 </td><td style=\"text-align: right;\">                   5</td></tr>\n",
       "<tr><td>train_mnist_tune_checkpoint_48500_00001</td><td>RUNNING </td><td>10.0.0.207:23929</td><td style=\"text-align: right;\">           128</td><td style=\"text-align: right;\">           256</td><td style=\"text-align: right;\">0.001</td><td style=\"text-align: right;\">          64</td><td style=\"text-align: right;\">0.778442</td><td style=\"text-align: right;\">       0.822191</td><td style=\"text-align: right;\">                   4</td></tr>\n",
       "<tr><td>train_mnist_tune_checkpoint_48500_00002</td><td>RUNNING </td><td>10.0.0.207:23931</td><td style=\"text-align: right;\">            32</td><td style=\"text-align: right;\">            64</td><td style=\"text-align: right;\">0.001</td><td style=\"text-align: right;\">          64</td><td style=\"text-align: right;\">0.912175</td><td style=\"text-align: right;\">       0.76879 </td><td style=\"text-align: right;\">                   5</td></tr>\n",
       "</tbody>\n",
       "</table><br><br>"
      ],
      "text/plain": [
       "<IPython.core.display.HTML object>"
      ]
     },
     "metadata": {},
     "output_type": "display_data"
    },
    {
     "name": "stdout",
     "output_type": "stream",
     "text": [
      "Result for train_mnist_tune_checkpoint_48500_00001:\n",
      "  date: 2020-07-01_20-17-00\n",
      "  done: false\n",
      "  experiment_id: cc77c29d241a40029689ac6299af3267\n",
      "  experiment_tag: 1_layer_1_size=128,layer_2_size=256\n",
      "  hostname: claustrophobia\n",
      "  iterations_since_restore: 5\n",
      "  loss: 0.6852383017539978\n",
      "  mean_accuracy: 0.8364319801330566\n",
      "  node_ip: 10.0.0.207\n",
      "  pid: 23929\n",
      "  should_checkpoint: true\n",
      "  time_since_restore: 26.69636106491089\n",
      "  time_this_iter_s: 4.731658220291138\n",
      "  time_total_s: 26.69636106491089\n",
      "  timestamp: 1593649020\n",
      "  timesteps_since_restore: 0\n",
      "  training_iteration: 5\n",
      "  trial_id: '48500_00001'\n",
      "  \n",
      "Result for train_mnist_tune_checkpoint_48500_00000:\n",
      "  date: 2020-07-01_20-17-09\n",
      "  done: false\n",
      "  experiment_id: 38f740b14d3540afbd647ac72d6610f3\n",
      "  experiment_tag: 0_layer_1_size=64,layer_2_size=256\n",
      "  hostname: claustrophobia\n",
      "  iterations_since_restore: 7\n",
      "  loss: 0.5653228759765625\n",
      "  mean_accuracy: 0.8633307218551636\n",
      "  node_ip: 10.0.0.207\n",
      "  pid: 23927\n",
      "  should_checkpoint: true\n",
      "  time_since_restore: 35.648552894592285\n",
      "  time_this_iter_s: 4.724761009216309\n",
      "  time_total_s: 35.648552894592285\n",
      "  timestamp: 1593649029\n",
      "  timesteps_since_restore: 0\n",
      "  training_iteration: 7\n",
      "  trial_id: '48500_00000'\n",
      "  \n"
     ]
    },
    {
     "data": {
      "text/html": [
       "== Status ==<br>Memory usage on this node: 7.9/62.8 GiB<br>PopulationBasedTraining: 1 checkpoints, 0 perturbs<br>Resources requested: 3/16 CPUs, 0.9/1 GPUs, 0.0/35.79 GiB heap, 0.0/12.35 GiB objects<br>Result logdir: /nvme_drive/orm/car_stuff/vroom_nbs/pbt_logs4/train_mnist_tune_checkpoint<br>Number of trials: 3 (3 RUNNING)<br><table>\n",
       "<thead>\n",
       "<tr><th>Trial name                             </th><th>status  </th><th>loc             </th><th style=\"text-align: right;\">  layer_1_size</th><th style=\"text-align: right;\">  layer_2_size</th><th style=\"text-align: right;\">   lr</th><th style=\"text-align: right;\">  batch_size</th><th style=\"text-align: right;\">    loss</th><th style=\"text-align: right;\">  mean_accuracy</th><th style=\"text-align: right;\">  training_iteration</th></tr>\n",
       "</thead>\n",
       "<tbody>\n",
       "<tr><td>train_mnist_tune_checkpoint_48500_00000</td><td>RUNNING </td><td>10.0.0.207:23927</td><td style=\"text-align: right;\">            64</td><td style=\"text-align: right;\">           256</td><td style=\"text-align: right;\">0.001</td><td style=\"text-align: right;\">          64</td><td style=\"text-align: right;\">0.565323</td><td style=\"text-align: right;\">       0.863331</td><td style=\"text-align: right;\">                   7</td></tr>\n",
       "<tr><td>train_mnist_tune_checkpoint_48500_00001</td><td>RUNNING </td><td>10.0.0.207:23929</td><td style=\"text-align: right;\">           128</td><td style=\"text-align: right;\">           256</td><td style=\"text-align: right;\">0.001</td><td style=\"text-align: right;\">          64</td><td style=\"text-align: right;\">0.630687</td><td style=\"text-align: right;\">       0.846321</td><td style=\"text-align: right;\">                   6</td></tr>\n",
       "<tr><td>train_mnist_tune_checkpoint_48500_00002</td><td>RUNNING </td><td>10.0.0.207:23931</td><td style=\"text-align: right;\">            32</td><td style=\"text-align: right;\">            64</td><td style=\"text-align: right;\">0.001</td><td style=\"text-align: right;\">          64</td><td style=\"text-align: right;\">0.82628 </td><td style=\"text-align: right;\">       0.785997</td><td style=\"text-align: right;\">                   6</td></tr>\n",
       "</tbody>\n",
       "</table><br><br>"
      ],
      "text/plain": [
       "<IPython.core.display.HTML object>"
      ]
     },
     "metadata": {},
     "output_type": "display_data"
    },
    {
     "name": "stdout",
     "output_type": "stream",
     "text": [
      "Result for train_mnist_tune_checkpoint_48500_00002:\n",
      "  date: 2020-07-01_20-17-09\n",
      "  done: false\n",
      "  experiment_id: 1965d993bc2a4f139a6f13706511d9db\n",
      "  experiment_tag: 2_layer_1_size=32,layer_2_size=64\n",
      "  hostname: claustrophobia\n",
      "  iterations_since_restore: 7\n",
      "  loss: 0.7707626819610596\n",
      "  mean_accuracy: 0.795094907283783\n",
      "  node_ip: 10.0.0.207\n",
      "  pid: 23931\n",
      "  should_checkpoint: true\n",
      "  time_since_restore: 36.14347767829895\n",
      "  time_this_iter_s: 4.820389270782471\n",
      "  time_total_s: 36.14347767829895\n",
      "  timestamp: 1593649029\n",
      "  timesteps_since_restore: 0\n",
      "  training_iteration: 7\n",
      "  trial_id: '48500_00002'\n",
      "  \n",
      "Result for train_mnist_tune_checkpoint_48500_00001:\n",
      "  date: 2020-07-01_20-17-09\n",
      "  done: false\n",
      "  experiment_id: cc77c29d241a40029689ac6299af3267\n",
      "  experiment_tag: 1_layer_1_size=128,layer_2_size=256\n",
      "  hostname: claustrophobia\n",
      "  iterations_since_restore: 7\n",
      "  loss: 0.5956544876098633\n",
      "  mean_accuracy: 0.8544303774833679\n",
      "  node_ip: 10.0.0.207\n",
      "  pid: 23929\n",
      "  should_checkpoint: true\n",
      "  time_since_restore: 36.39568614959717\n",
      "  time_this_iter_s: 4.90669584274292\n",
      "  time_total_s: 36.39568614959717\n",
      "  timestamp: 1593649029\n",
      "  timesteps_since_restore: 0\n",
      "  training_iteration: 7\n",
      "  trial_id: '48500_00001'\n",
      "  \n"
     ]
    },
    {
     "data": {
      "text/html": [
       "== Status ==<br>Memory usage on this node: 7.8/62.8 GiB<br>PopulationBasedTraining: 1 checkpoints, 0 perturbs<br>Resources requested: 3/16 CPUs, 0.9/1 GPUs, 0.0/35.79 GiB heap, 0.0/12.35 GiB objects<br>Result logdir: /nvme_drive/orm/car_stuff/vroom_nbs/pbt_logs4/train_mnist_tune_checkpoint<br>Number of trials: 3 (3 RUNNING)<br><table>\n",
       "<thead>\n",
       "<tr><th>Trial name                             </th><th>status  </th><th>loc             </th><th style=\"text-align: right;\">  layer_1_size</th><th style=\"text-align: right;\">  layer_2_size</th><th style=\"text-align: right;\">   lr</th><th style=\"text-align: right;\">  batch_size</th><th style=\"text-align: right;\">    loss</th><th style=\"text-align: right;\">  mean_accuracy</th><th style=\"text-align: right;\">  training_iteration</th></tr>\n",
       "</thead>\n",
       "<tbody>\n",
       "<tr><td>train_mnist_tune_checkpoint_48500_00000</td><td>RUNNING </td><td>10.0.0.207:23927</td><td style=\"text-align: right;\">            64</td><td style=\"text-align: right;\">           256</td><td style=\"text-align: right;\">0.001</td><td style=\"text-align: right;\">          64</td><td style=\"text-align: right;\">0.541735</td><td style=\"text-align: right;\">       0.866693</td><td style=\"text-align: right;\">                   8</td></tr>\n",
       "<tr><td>train_mnist_tune_checkpoint_48500_00001</td><td>RUNNING </td><td>10.0.0.207:23929</td><td style=\"text-align: right;\">           128</td><td style=\"text-align: right;\">           256</td><td style=\"text-align: right;\">0.001</td><td style=\"text-align: right;\">          64</td><td style=\"text-align: right;\">0.595654</td><td style=\"text-align: right;\">       0.85443 </td><td style=\"text-align: right;\">                   7</td></tr>\n",
       "<tr><td>train_mnist_tune_checkpoint_48500_00002</td><td>RUNNING </td><td>10.0.0.207:23931</td><td style=\"text-align: right;\">            32</td><td style=\"text-align: right;\">            64</td><td style=\"text-align: right;\">0.001</td><td style=\"text-align: right;\">          64</td><td style=\"text-align: right;\">0.732932</td><td style=\"text-align: right;\">       0.804193</td><td style=\"text-align: right;\">                   8</td></tr>\n",
       "</tbody>\n",
       "</table><br><br>"
      ],
      "text/plain": [
       "<IPython.core.display.HTML object>"
      ]
     },
     "metadata": {},
     "output_type": "display_data"
    },
    {
     "name": "stdout",
     "output_type": "stream",
     "text": [
      "Result for train_mnist_tune_checkpoint_48500_00000:\n",
      "  date: 2020-07-01_20-17-18\n",
      "  done: false\n",
      "  experiment_id: 38f740b14d3540afbd647ac72d6610f3\n",
      "  experiment_tag: 0_layer_1_size=64,layer_2_size=256\n",
      "  hostname: claustrophobia\n",
      "  iterations_since_restore: 9\n",
      "  loss: 0.5251153111457825\n",
      "  mean_accuracy: 0.8684731125831604\n",
      "  node_ip: 10.0.0.207\n",
      "  pid: 23927\n",
      "  should_checkpoint: true\n",
      "  time_since_restore: 45.297504901885986\n",
      "  time_this_iter_s: 4.816346645355225\n",
      "  time_total_s: 45.297504901885986\n",
      "  timestamp: 1593649038\n",
      "  timesteps_since_restore: 0\n",
      "  training_iteration: 9\n",
      "  trial_id: '48500_00000'\n",
      "  \n"
     ]
    },
    {
     "name": "stderr",
     "output_type": "stream",
     "text": [
      "2020-07-01 20:17:19,137\tINFO pbt.py:78 -- [explore] perturbed config from {'layer_1_size': 64, 'layer_2_size': 256, 'lr': 0.001, 'batch_size': 64, 'data_dir': '/tmp/mnist_data_ctfm5foh', 'num_workers': 3} -> {'layer_1_size': 64, 'layer_2_size': 256, 'lr': 0.0008, 'batch_size': 32, 'data_dir': '/tmp/mnist_data_ctfm5foh', 'num_workers': 3}\n",
      "2020-07-01 20:17:19,138\tINFO pbt.py:316 -- [exploit] transferring weights from trial train_mnist_tune_checkpoint_48500_00000 (score -0.5251153111457825) -> train_mnist_tune_checkpoint_48500_00002 (score -0.706142246723175)\n"
     ]
    },
    {
     "name": "stdout",
     "output_type": "stream",
     "text": [
      "Result for train_mnist_tune_checkpoint_48500_00002:\n",
      "  date: 2020-07-01_20-17-19\n",
      "  done: false\n",
      "  experiment_id: 1965d993bc2a4f139a6f13706511d9db\n",
      "  experiment_tag: 2_layer_1_size=32,layer_2_size=64@perturbed[batch_size=32,lr=0.0008]\n",
      "  hostname: claustrophobia\n",
      "  iterations_since_restore: 9\n",
      "  loss: 0.706142246723175\n",
      "  mean_accuracy: 0.8085442781448364\n",
      "  node_ip: 10.0.0.207\n",
      "  pid: 23931\n",
      "  should_checkpoint: true\n",
      "  time_since_restore: 45.74351263046265\n",
      "  time_this_iter_s: 4.86440372467041\n",
      "  time_total_s: 45.74351263046265\n",
      "  timestamp: 1593649039\n",
      "  timesteps_since_restore: 0\n",
      "  training_iteration: 9\n",
      "  trial_id: '48500_00002'\n",
      "  \n",
      "Result for train_mnist_tune_checkpoint_48500_00001:\n",
      "  date: 2020-07-01_20-17-19\n",
      "  done: false\n",
      "  experiment_id: cc77c29d241a40029689ac6299af3267\n",
      "  experiment_tag: 1_layer_1_size=128,layer_2_size=256\n",
      "  hostname: claustrophobia\n",
      "  iterations_since_restore: 9\n",
      "  loss: 0.5547235608100891\n",
      "  mean_accuracy: 0.8619462251663208\n",
      "  node_ip: 10.0.0.207\n",
      "  pid: 23929\n",
      "  should_checkpoint: true\n",
      "  time_since_restore: 46.06717252731323\n",
      "  time_this_iter_s: 4.8286566734313965\n",
      "  time_total_s: 46.06717252731323\n",
      "  timestamp: 1593649039\n",
      "  timesteps_since_restore: 0\n",
      "  training_iteration: 9\n",
      "  trial_id: '48500_00001'\n",
      "  \n"
     ]
    },
    {
     "data": {
      "text/html": [
       "== Status ==<br>Memory usage on this node: 6.6/62.8 GiB<br>PopulationBasedTraining: 2 checkpoints, 1 perturbs<br>Resources requested: 3/16 CPUs, 0.9/1 GPUs, 0.0/35.79 GiB heap, 0.0/12.35 GiB objects<br>Result logdir: /nvme_drive/orm/car_stuff/vroom_nbs/pbt_logs4/train_mnist_tune_checkpoint<br>Number of trials: 3 (3 RUNNING)<br><table>\n",
       "<thead>\n",
       "<tr><th>Trial name                             </th><th>status  </th><th>loc             </th><th style=\"text-align: right;\">  layer_1_size</th><th style=\"text-align: right;\">  layer_2_size</th><th style=\"text-align: right;\">    lr</th><th style=\"text-align: right;\">  batch_size</th><th style=\"text-align: right;\">    loss</th><th style=\"text-align: right;\">  mean_accuracy</th><th style=\"text-align: right;\">  training_iteration</th></tr>\n",
       "</thead>\n",
       "<tbody>\n",
       "<tr><td>train_mnist_tune_checkpoint_48500_00000</td><td>RUNNING </td><td>10.0.0.207:23927</td><td style=\"text-align: right;\">            64</td><td style=\"text-align: right;\">           256</td><td style=\"text-align: right;\">0.001 </td><td style=\"text-align: right;\">          64</td><td style=\"text-align: right;\">0.525115</td><td style=\"text-align: right;\">       0.868473</td><td style=\"text-align: right;\">                   9</td></tr>\n",
       "<tr><td>train_mnist_tune_checkpoint_48500_00001</td><td>RUNNING </td><td>10.0.0.207:23929</td><td style=\"text-align: right;\">           128</td><td style=\"text-align: right;\">           256</td><td style=\"text-align: right;\">0.001 </td><td style=\"text-align: right;\">          64</td><td style=\"text-align: right;\">0.554724</td><td style=\"text-align: right;\">       0.861946</td><td style=\"text-align: right;\">                   9</td></tr>\n",
       "<tr><td>train_mnist_tune_checkpoint_48500_00002</td><td>RUNNING </td><td>10.0.0.207:23931</td><td style=\"text-align: right;\">            64</td><td style=\"text-align: right;\">           256</td><td style=\"text-align: right;\">0.0008</td><td style=\"text-align: right;\">          32</td><td style=\"text-align: right;\">0.706142</td><td style=\"text-align: right;\">       0.808544</td><td style=\"text-align: right;\">                   9</td></tr>\n",
       "</tbody>\n",
       "</table><br><br>"
      ],
      "text/plain": [
       "<IPython.core.display.HTML object>"
      ]
     },
     "metadata": {},
     "output_type": "display_data"
    },
    {
     "name": "stdout",
     "output_type": "stream",
     "text": [
      "\u001b[2m\u001b[36m(pid=23955)\u001b[0m 2020-07-01 20:17:20,140\tINFO trainable.py:464 -- Restored on 10.0.0.207 from checkpoint: /nvme_drive/orm/car_stuff/vroom_nbs/pbt_logs4/train_mnist_tune_checkpoint/train_mnist_tune_checkpoint_2_layer_1_size=32,layer_2_size=64_2020-07-01_20-16-32auazt2qt/checkpoint_default/./\n",
      "\u001b[2m\u001b[36m(pid=23955)\u001b[0m 2020-07-01 20:17:20,140\tINFO trainable.py:471 -- Current state after restoring: {'_iteration': 9, '_timesteps_total': None, '_time_total': 45.297504901885986, '_episodes_total': None}\n",
      "\u001b[2m\u001b[36m(pid=23955)\u001b[0m GPU available: True, used: True\n",
      "\u001b[2m\u001b[36m(pid=23955)\u001b[0m TPU available: False, using: 0 TPU cores\n",
      "\u001b[2m\u001b[36m(pid=23955)\u001b[0m CUDA_VISIBLE_DEVICES: [0]\n",
      "\u001b[2m\u001b[36m(pid=23955)\u001b[0m \n",
      "\u001b[2m\u001b[36m(pid=23955)\u001b[0m   | Name    | Type   | Params\n",
      "\u001b[2m\u001b[36m(pid=23955)\u001b[0m -----------------------------------\n",
      "\u001b[2m\u001b[36m(pid=23955)\u001b[0m 0 | layer_1 | Linear | 50 K  \n",
      "\u001b[2m\u001b[36m(pid=23955)\u001b[0m 1 | layer_2 | Linear | 16 K  \n",
      "\u001b[2m\u001b[36m(pid=23955)\u001b[0m 2 | layer_3 | Linear | 2 K   \n",
      "Result for train_mnist_tune_checkpoint_48500_00002:\n",
      "  date: 2020-07-01_20-17-27\n",
      "  done: false\n",
      "  experiment_id: 38f740b14d3540afbd647ac72d6610f3\n",
      "  experiment_tag: 2_layer_1_size=32,layer_2_size=64@perturbed[batch_size=32,lr=0.0008]\n",
      "  hostname: claustrophobia\n",
      "  iterations_since_restore: 1\n",
      "  loss: 0.5132178068161011\n",
      "  mean_accuracy: 0.8666401505470276\n",
      "  node_ip: 10.0.0.207\n",
      "  pid: 23955\n",
      "  should_checkpoint: true\n",
      "  time_since_restore: 7.378149747848511\n",
      "  time_this_iter_s: 7.378149747848511\n",
      "  time_total_s: 52.6756546497345\n",
      "  timestamp: 1593649047\n",
      "  timesteps_since_restore: 0\n",
      "  training_iteration: 10\n",
      "  trial_id: '48500_00002'\n",
      "  \n"
     ]
    },
    {
     "data": {
      "text/html": [
       "== Status ==<br>Memory usage on this node: 5.3/62.8 GiB<br>PopulationBasedTraining: 2 checkpoints, 1 perturbs<br>Resources requested: 1/16 CPUs, 0.3/1 GPUs, 0.0/35.79 GiB heap, 0.0/12.35 GiB objects<br>Result logdir: /nvme_drive/orm/car_stuff/vroom_nbs/pbt_logs4/train_mnist_tune_checkpoint<br>Number of trials: 3 (1 RUNNING, 2 TERMINATED)<br><table>\n",
       "<thead>\n",
       "<tr><th>Trial name                             </th><th>status    </th><th>loc             </th><th style=\"text-align: right;\">  layer_1_size</th><th style=\"text-align: right;\">  layer_2_size</th><th style=\"text-align: right;\">    lr</th><th style=\"text-align: right;\">  batch_size</th><th style=\"text-align: right;\">    loss</th><th style=\"text-align: right;\">  mean_accuracy</th><th style=\"text-align: right;\">  training_iteration</th></tr>\n",
       "</thead>\n",
       "<tbody>\n",
       "<tr><td>train_mnist_tune_checkpoint_48500_00000</td><td>TERMINATED</td><td>                </td><td style=\"text-align: right;\">            64</td><td style=\"text-align: right;\">           256</td><td style=\"text-align: right;\">0.001 </td><td style=\"text-align: right;\">          64</td><td style=\"text-align: right;\">0.513038</td><td style=\"text-align: right;\">       0.870451</td><td style=\"text-align: right;\">                  10</td></tr>\n",
       "<tr><td>train_mnist_tune_checkpoint_48500_00001</td><td>TERMINATED</td><td>                </td><td style=\"text-align: right;\">           128</td><td style=\"text-align: right;\">           256</td><td style=\"text-align: right;\">0.001 </td><td style=\"text-align: right;\">          64</td><td style=\"text-align: right;\">0.542287</td><td style=\"text-align: right;\">       0.863924</td><td style=\"text-align: right;\">                  10</td></tr>\n",
       "<tr><td>train_mnist_tune_checkpoint_48500_00002</td><td>RUNNING   </td><td>10.0.0.207:23955</td><td style=\"text-align: right;\">            64</td><td style=\"text-align: right;\">           256</td><td style=\"text-align: right;\">0.0008</td><td style=\"text-align: right;\">          32</td><td style=\"text-align: right;\">0.513218</td><td style=\"text-align: right;\">       0.86664 </td><td style=\"text-align: right;\">                  10</td></tr>\n",
       "</tbody>\n",
       "</table><br><br>"
      ],
      "text/plain": [
       "<IPython.core.display.HTML object>"
      ]
     },
     "metadata": {},
     "output_type": "display_data"
    },
    {
     "data": {
      "text/html": [
       "== Status ==<br>Memory usage on this node: 5.3/62.8 GiB<br>PopulationBasedTraining: 2 checkpoints, 1 perturbs<br>Resources requested: 0/16 CPUs, 0.0/1 GPUs, 0.0/35.79 GiB heap, 0.0/12.35 GiB objects<br>Result logdir: /nvme_drive/orm/car_stuff/vroom_nbs/pbt_logs4/train_mnist_tune_checkpoint<br>Number of trials: 3 (3 TERMINATED)<br><table>\n",
       "<thead>\n",
       "<tr><th>Trial name                             </th><th>status    </th><th>loc  </th><th style=\"text-align: right;\">  layer_1_size</th><th style=\"text-align: right;\">  layer_2_size</th><th style=\"text-align: right;\">    lr</th><th style=\"text-align: right;\">  batch_size</th><th style=\"text-align: right;\">    loss</th><th style=\"text-align: right;\">  mean_accuracy</th><th style=\"text-align: right;\">  training_iteration</th></tr>\n",
       "</thead>\n",
       "<tbody>\n",
       "<tr><td>train_mnist_tune_checkpoint_48500_00000</td><td>TERMINATED</td><td>     </td><td style=\"text-align: right;\">            64</td><td style=\"text-align: right;\">           256</td><td style=\"text-align: right;\">0.001 </td><td style=\"text-align: right;\">          64</td><td style=\"text-align: right;\">0.513038</td><td style=\"text-align: right;\">       0.870451</td><td style=\"text-align: right;\">                  10</td></tr>\n",
       "<tr><td>train_mnist_tune_checkpoint_48500_00001</td><td>TERMINATED</td><td>     </td><td style=\"text-align: right;\">           128</td><td style=\"text-align: right;\">           256</td><td style=\"text-align: right;\">0.001 </td><td style=\"text-align: right;\">          64</td><td style=\"text-align: right;\">0.542287</td><td style=\"text-align: right;\">       0.863924</td><td style=\"text-align: right;\">                  10</td></tr>\n",
       "<tr><td>train_mnist_tune_checkpoint_48500_00002</td><td>TERMINATED</td><td>     </td><td style=\"text-align: right;\">            64</td><td style=\"text-align: right;\">           256</td><td style=\"text-align: right;\">0.0008</td><td style=\"text-align: right;\">          32</td><td style=\"text-align: right;\">0.513218</td><td style=\"text-align: right;\">       0.86664 </td><td style=\"text-align: right;\">                  10</td></tr>\n",
       "</tbody>\n",
       "</table><br><br>"
      ],
      "text/plain": [
       "<IPython.core.display.HTML object>"
      ]
     },
     "metadata": {},
     "output_type": "display_data"
    }
   ],
   "source": [
    "res = tune_mnist_pbt(local_dir='./pbt_logs4/')"
   ]
  },
  {
   "cell_type": "code",
   "execution_count": 126,
   "metadata": {
    "ExecuteTime": {
     "end_time": "2020-07-02T00:16:24.603113Z",
     "start_time": "2020-07-02T00:16:23.530233Z"
    }
   },
   "outputs": [
    {
     "data": {
      "text/html": [
       "\n",
       "      <iframe id=\"tensorboard-frame-331de91482ec3661\" width=\"100%\" height=\"800\" frameborder=\"0\">\n",
       "      </iframe>\n",
       "      <script>\n",
       "        (function() {\n",
       "          const frame = document.getElementById(\"tensorboard-frame-331de91482ec3661\");\n",
       "          const url = new URL(\"/\", window.location);\n",
       "          url.port = 6006;\n",
       "          frame.src = url;\n",
       "        })();\n",
       "      </script>\n",
       "  "
      ],
      "text/plain": [
       "<IPython.core.display.HTML object>"
      ]
     },
     "metadata": {},
     "output_type": "display_data"
    }
   ],
   "source": [
    "%reload_ext tensorboard\n",
    "%tensorboard --logdir ./pbt_logs4/"
   ]
  },
  {
   "cell_type": "code",
   "execution_count": 125,
   "metadata": {
    "ExecuteTime": {
     "end_time": "2020-07-02T00:16:20.759427Z",
     "start_time": "2020-07-02T00:16:20.576855Z"
    }
   },
   "outputs": [],
   "source": [
    "!pkill -9 tensorboard"
   ]
  },
  {
   "cell_type": "code",
   "execution_count": null,
   "metadata": {},
   "outputs": [],
   "source": []
  }
 ],
 "metadata": {
  "kernelspec": {
   "display_name": "Python (raytest)",
   "language": "python",
   "name": "raytest"
  }
 },
 "nbformat": 4,
 "nbformat_minor": 2
}
